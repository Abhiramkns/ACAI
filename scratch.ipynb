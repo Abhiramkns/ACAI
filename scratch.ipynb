{
 "cells": [
  {
   "cell_type": "code",
   "execution_count": 1,
   "metadata": {},
   "outputs": [
    {
     "name": "stderr",
     "output_type": "stream",
     "text": [
      "/home/nkusumba/.conda/envs/avd_clip/lib/python3.12/site-packages/tqdm/auto.py:21: TqdmWarning: IProgress not found. Please update jupyter and ipywidgets. See https://ipywidgets.readthedocs.io/en/stable/user_install.html\n",
      "  from .autonotebook import tqdm as notebook_tqdm\n"
     ]
    }
   ],
   "source": [
    "from diffusers import AutoPipelineForImage2Image, AutoPipelineForText2Image\n",
    "from transformers import pipeline\n",
    "import torch"
   ]
  },
  {
   "cell_type": "code",
   "execution_count": 2,
   "metadata": {},
   "outputs": [
    {
     "name": "stderr",
     "output_type": "stream",
     "text": [
      "Loading checkpoint shards: 100%|██████████| 4/4 [00:09<00:00,  2.27s/it]\n",
      "Special tokens have been added in the vocabulary, make sure the associated word embeddings are fine-tuned or trained.\n",
      "Loading pipeline components...: 100%|██████████| 7/7 [00:05<00:00,  1.23it/s]\n",
      "Loading pipeline components...: 100%|██████████| 7/7 [00:01<00:00,  6.21it/s]\n"
     ]
    }
   ],
   "source": [
    "pipe = pipeline(\"text-generation\", model=\"meta-llama/Meta-Llama-3-8B-Instruct\", device=\"cuda\", torch_dtype=torch.float16, do_sample=False, max_new_tokens=1024)\n",
    "    \n",
    "# Text to Image\n",
    "t2i = AutoPipelineForText2Image.from_pretrained(\"stabilityai/stable-diffusion-xl-base-1.0\", torch_dtype=torch.float16).to(\"cuda\")\n",
    "\n",
    "# Image to Image\n",
    "i2i = AutoPipelineForImage2Image.from_pretrained(\n",
    "    \"stabilityai/stable-diffusion-xl-base-1.0\", torch_dtype=torch.float16, variant=\"fp16\", use_safetensors=True\n",
    ").to(\"cuda\")"
   ]
  },
  {
   "cell_type": "code",
   "execution_count": 3,
   "metadata": {},
   "outputs": [],
   "source": [
    "messages = [\n",
    "    {\n",
    "        \"role\": \"system\",\n",
    "        \"content\": \"\"\"\n",
    "            You are a detail-oriented and intelligent chatbot equipped to respond to user queries and generate or edit images based on specific requests. Here's what you need to do:\n",
    "            1. Respond to Queries: Provide a thoughtful and accurate response to every user message, ensuring consistency and relevance. You must consider the context of the ongoing conversation to maintain continuity and coherence in your responses.\n",
    "            2. Assess Image Needs: Evaluate whether the user's query involves a requirement for an image. If an image is needed, discern whether it involves generating a new image or editing an existing one. Based on the specifics mentioned by the user, such as elements or styles, create a detailed image prompt that captures these requirements effectively.\n",
    "            3. Engage with the User: After addressing the user's query, engage them further by asking personal follow-up questions. This engagement should feel natural and aim to deepen the interaction, providing a more personalized and engaging user experience.\n",
    "\n",
    "            Ensure your outputs are structured as follows:\n",
    "            {\n",
    "                \"message\": Provide a complete answer to the user's query, including a personal follow-up question to engage them further.\n",
    "                \"task\": Clearly specify the task type, categorizing it as 'Generation', 'Editing', or 'null' if no image is required based on the query.\n",
    "                \"prompt\": If the task involves image generation or editing, provide a detailed prompt that accurately reflects the user's requirements, ensuring it is ready to be used for creating or modifying the image. If no image is needed, this field should be 'null'.\n",
    "                \"question\": Include a personal follow-up question aimed at continuing the conversation, demonstrating attentiveness and interest in the user's preferences or experiences.\n",
    "            }\n",
    "        Your role is crucial in ensuring that the user feels listened to and engaged in a conversation that is both helpful and enjoyable.\n",
    "        \"\"\"\n",
    "    },\n",
    "    {\n",
    "        \"role\": \"user\",\n",
    "        \"content\": \"{\\\"message\\\": \\\"Generate an image of a dog playing in the park.\\\"}\"\n",
    "    },\n",
    "    {\n",
    "        \"role\": \"assistant\",\n",
    "        \"content\": \"{\\\"message\\\": \\\"Sure, I'll create an image of a dog playing in the park for you. Do you have a favorite park you like to visit with pets?\\\", \\\"task\\\": \\\"Generation\\\", \\\"prompt\\\": \\\"A happy dog playing in a park, running around with a frisbee in its mouth. The park is lush green with trees and a clear blue sky.\\\", \\\"question\\\": \\\"Do you have a favorite park you like to visit with pets?\\\"}\"\n",
    "    },\n",
    "    {\n",
    "        \"role\": \"user\",\n",
    "        \"content\": \"{\\\"message\\\": \\\"Yes, I love taking my dog to Central Park. It's his favorite spot.\\\"}\"\n",
    "    },\n",
    "    {\n",
    "        \"role\": \"assistant\",\n",
    "        \"content\": \"{\\\"message\\\": \\\"That sounds lovely! Central Park is a great place for dogs. Let me know if you need anything else.\\\", \\\"task\\\": \\\"null\\\", \\\"prompt\\\": \\\"null\\\", \\\"question\\\": \\\"null\\\"}\"\n",
    "    },\n",
    "    {\n",
    "        \"role\": \"user\",\n",
    "        \"content\": \"{\\\"message\\\": \\\"Can you give me a recipe for a vegan chocolate cake?\\\"}\"\n",
    "    },\n",
    "    {\n",
    "        \"role\": \"assistant\",\n",
    "        \"content\": \"{\\\"message\\\": \\\"Here's a delicious recipe for a vegan chocolate cake: Preheat your oven to 350°F (175°C). In a bowl, mix 1.5 cups of flour, 1 cup of sugar, 1/4 cup of cocoa powder, 1 tsp baking soda, and 1/2 tsp salt. Add 1 cup of water, 1/3 cup of vegetable oil, 1 tbsp vinegar, and 1 tsp vanilla extract. Mix until smooth, pour into a greased pan, and bake for 30 minutes. Do you enjoy baking often?\\\", \\\"task\\\": \\\"null\\\", \\\"prompt\\\": \\\"null\\\", \\\"question\\\": \\\"Do you enjoy baking often?\\\"}\"\n",
    "    },\n",
    "    {\n",
    "        \"role\": \"user\",\n",
    "        \"content\": \"{\\\"message\\\": \\\"Yes, baking is one of my favorite hobbies. I find it very relaxing.\\\"}\"\n",
    "    },\n",
    "    {\n",
    "        \"role\": \"assistant\",\n",
    "        \"content\": \"{\\\"message\\\": \\\"That's wonderful! Baking can indeed be very therapeutic. Let me know if you need more recipes or any other help.\\\", \\\"task\\\": \\\"null\\\", \\\"prompt\\\": \\\"null\\\", \\\"question\\\": \\\"null\\\"}\"\n",
    "    },\n",
    "    {\n",
    "        \"role\": \"user\",\n",
    "        \"content\": \"{\\\"message\\\": \\\"Edit this photo to add a sepia tone?\\\"}\"\n",
    "    },\n",
    "    {\n",
    "        \"role\": \"assistant\",\n",
    "        \"content\": \"{\\\"message\\\": \\\"Sure, I can add a sepia tone to your photo. Here you go. Does this photo hold any special memories for you?\\\", \\\"task\\\": \\\"Editing\\\", \\\"prompt\\\": \\\"A user's uploaded photo to be edited with a sepia tone, giving it a warm, vintage look while enhancing details and maintaining clarity.\\\", \\\"question\\\": \\\"Does this photo hold any special memories for you?\\\"}\"\n",
    "    },\n",
    "    {\n",
    "        \"role\": \"user\",\n",
    "        \"content\": \"{\\\"message\\\": \\\"Yes, this is a photo from my first solo trip. It's very special to me.\\\"}\"\n",
    "    },\n",
    "    {\n",
    "        \"role\": \"assistant\",\n",
    "        \"content\": \"{\\\"message\\\": \\\"That sounds like a wonderful memory. Solo trips can be so enriching. Let me know if there's anything else you'd like to enhance in this photo.\\\", \\\"task\\\": \\\"null\\\", \\\"prompt\\\": \\\"null\\\", \\\"question\\\": \\\"null\\\"}\"\n",
    "    },\n",
    "    {\n",
    "        \"role\": \"user\",\n",
    "        \"content\": \"{\\\"message\\\": \\\"Create an image of a futuristic cityscape at sunset?\\\"}\"\n",
    "    },\n",
    "    {\n",
    "        \"role\": \"assistant\",\n",
    "        \"content\": \"\"\"\n",
    "            {\n",
    "                \"message\": \"I'd be happy to create an image of a futuristic cityscape at sunset. Do you enjoy sci-fi movies or books that feature futuristic cities?\",\n",
    "                \"task\": \"Generation\",\n",
    "                \"prompt\": \"A futuristic cityscape during sunset, with towering skyscrapers, neon lights, and flying cars. The sky is a blend of orange and pink hues, reflecting off glass buildings.\",\n",
    "                \"question\": \"Do you enjoy sci-fi movies or books that feature futuristic cities?\"\n",
    "            }\n",
    "        \"\"\"\n",
    "    },\n",
    "    {\n",
    "        \"role\": \"user\",\n",
    "        \"content\": \"\"\"\n",
    "            {\n",
    "                \"message\": \"Can you brighten this image and make the colors pop more?\"\n",
    "            }\n",
    "        \"\"\"\n",
    "    },\n",
    "    {\n",
    "        \"role\": \"assistant\",\n",
    "        \"content\": \"\"\"\n",
    "            {\n",
    "                \"message\": \"Sure, I can enhance the brightness and colors of your image to make it more vivid. What's the occasion for this photo?\",\n",
    "                \"task\": \"Editing\",\n",
    "                \"prompt\": \"A user's uploaded photo to be edited by brightening and enhancing the color saturation, making the colors more vibrant and the overall image more eye-catching.\",\n",
    "                \"question\": \"What's the occasion for this photo?\"\n",
    "            }\n",
    "        \"\"\"\n",
    "    }\n",
    "]"
   ]
  },
  {
   "cell_type": "code",
   "execution_count": 4,
   "metadata": {},
   "outputs": [],
   "source": [
    "chat = [\n",
    "    *messages,\n",
    "    {\n",
    "        \"role\": \"user\",\n",
    "        \"content\": \"{\\\"message\\\": \\\"Can you give me an image of eiffel tower?\\\"}\"\n",
    "    }\n",
    "]"
   ]
  },
  {
   "cell_type": "code",
   "execution_count": 5,
   "metadata": {},
   "outputs": [
    {
     "name": "stderr",
     "output_type": "stream",
     "text": [
      "/home/nkusumba/.conda/envs/avd_clip/lib/python3.12/site-packages/transformers/generation/configuration_utils.py:492: UserWarning: `do_sample` is set to `False`. However, `temperature` is set to `0.6` -- this flag is only used in sample-based generation modes. You should set `do_sample=True` or unset `temperature`.\n",
      "  warnings.warn(\n",
      "/home/nkusumba/.conda/envs/avd_clip/lib/python3.12/site-packages/transformers/generation/configuration_utils.py:497: UserWarning: `do_sample` is set to `False`. However, `top_p` is set to `0.9` -- this flag is only used in sample-based generation modes. You should set `do_sample=True` or unset `top_p`.\n",
      "  warnings.warn(\n",
      "Setting `pad_token_id` to `eos_token_id`:128001 for open-end generation.\n"
     ]
    }
   ],
   "source": [
    "output = pipe(chat)"
   ]
  },
  {
   "cell_type": "code",
   "execution_count": 6,
   "metadata": {},
   "outputs": [
    {
     "name": "stdout",
     "output_type": "stream",
     "text": [
      "{\n",
      "                \"message\": \"Here's an image of the Eiffel Tower. Have you ever visited Paris and seen it in person?\",\n",
      "                \"task\": \"Generation\",\n",
      "                \"prompt\": \"A high-resolution image of the Eiffel Tower in Paris, France, with a clear blue sky and a slight mist in the background, capturing the iconic iron structure's intricate details.\",\n",
      "                \"question\": \"Have you ever visited Paris and seen it in person?\"\n",
      "            }\n"
     ]
    }
   ],
   "source": [
    "output = output[-1]['generated_text'][-1]['content']\n",
    "print(output)"
   ]
  },
  {
   "cell_type": "code",
   "execution_count": 7,
   "metadata": {},
   "outputs": [],
   "source": [
    "import re"
   ]
  },
  {
   "cell_type": "code",
   "execution_count": 10,
   "metadata": {},
   "outputs": [],
   "source": [
    "pattern = r'\\{\\s*\\\"message\\\":\\s*\"([^\"]*)\",\\s*\\\"task\\\":\\s*\"([^\"]*)\",\\s*\\\"prompt\\\":\\s*\"([^\"]*)\",\\s*\\\"question\\\":\\s*\"([^\"]*)\"\\s*}'\n",
    "match = re.search(pattern, output, re.DOTALL)"
   ]
  },
  {
   "cell_type": "code",
   "execution_count": 11,
   "metadata": {},
   "outputs": [
    {
     "data": {
      "text/plain": [
       "\"Here's an image of the Eiffel Tower. Have you ever visited Paris and seen it in person?\""
      ]
     },
     "execution_count": 11,
     "metadata": {},
     "output_type": "execute_result"
    }
   ],
   "source": [
    "match.group(1)"
   ]
  },
  {
   "cell_type": "code",
   "execution_count": 1,
   "metadata": {},
   "outputs": [],
   "source": [
    "a = [\"Hello\", \"Yo\", \"Hi\"]"
   ]
  },
  {
   "cell_type": "code",
   "execution_count": 2,
   "metadata": {},
   "outputs": [
    {
     "data": {
      "text/plain": [
       "\"['Hello', 'Yo', 'Hi']\""
      ]
     },
     "execution_count": 2,
     "metadata": {},
     "output_type": "execute_result"
    }
   ],
   "source": [
    "str(a)"
   ]
  },
  {
   "cell_type": "code",
   "execution_count": null,
   "metadata": {},
   "outputs": [],
   "source": []
  }
 ],
 "metadata": {
  "kernelspec": {
   "display_name": "Python 3",
   "language": "python",
   "name": "python3"
  },
  "language_info": {
   "codemirror_mode": {
    "name": "ipython",
    "version": 3
   },
   "file_extension": ".py",
   "mimetype": "text/x-python",
   "name": "python",
   "nbconvert_exporter": "python",
   "pygments_lexer": "ipython3",
   "version": "3.12.3"
  }
 },
 "nbformat": 4,
 "nbformat_minor": 2
}
